{
 "metadata": {
  "celltoolbar": "Slideshow",
  "name": "",
  "signature": "sha256:3d1fa97207fb67befa353eb75c525ceb46b62b9ffb2b8b478392cfef68e7270a"
 },
 "nbformat": 3,
 "nbformat_minor": 0,
 "worksheets": [
  {
   "cells": [
    {
     "cell_type": "markdown",
     "metadata": {
      "slideshow": {
       "slide_type": "slide"
      }
     },
     "source": [
      "# Operator overloading"
     ]
    },
    {
     "cell_type": "code",
     "collapsed": false,
     "input": [
      "from __future__ import division\n",
      "\n",
      "class AlienInt(object):\n",
      "    def __init__(self, value):\n",
      "        self.value = value\n",
      "    \n",
      "    def __add__(self, other):\n",
      "        if isinstance(other, AlienInt):\n",
      "            return AlienInt(self.value + other.value - 1)\n",
      "        else:\n",
      "            raise TypeError(\"Can not add AlienInt to \" + type(other).__name__)\n",
      "            \n",
      "    def __sub__(self, other):\n",
      "        if isinstance(other, AlienInt):\n",
      "            return AlienInt(self.value - other.value - 1)\n",
      "        else:\n",
      "            raise TypeError(\"Can not subtract \" + type(other).__name__ + \" from AlienInt\")\n",
      "    \n",
      "    def __mul__(self, other):\n",
      "        if isinstance(other, AlienInt):\n",
      "            return AlienInt(self.value*other.value - 1)\n",
      "        else:\n",
      "            raise TypeError(\"Can not multiply \" + type(other).__name__ + \" to AlientInt\")\n",
      "            \n",
      "    def __floordiv__(self, other):\n",
      "        if isinstance(other, AlienInt):\n",
      "            return AlienInt(self.value//other.value - 1)\n",
      "        else:\n",
      "            raise TypeError(\"Can not divide AlienInt by \" + type(other).__name__)\n",
      "\n",
      "    def __truediv__(self, other):\n",
      "        if isinstance(other, AlienInt):\n",
      "            return self.__floordiv__(other)\n",
      "        else:\n",
      "            raise TypeError(\"Can not divide AlienInt by \" + type(other).__name__)        \n",
      "\n",
      "    def __str__(self):\n",
      "        return str(self.value)\n",
      "    \n",
      "    def __repr__(self):\n",
      "        return repr(self.value)\n"
     ],
     "language": "python",
     "metadata": {
      "slideshow": {
       "slide_type": "subslide"
      }
     },
     "outputs": [],
     "prompt_number": 1
    },
    {
     "cell_type": "code",
     "collapsed": false,
     "input": [
      "a = AlienInt(10);\n",
      "b = AlienInt(5);\n",
      "a + b"
     ],
     "language": "python",
     "metadata": {
      "slideshow": {
       "slide_type": "subslide"
      }
     },
     "outputs": [
      {
       "metadata": {},
       "output_type": "pyout",
       "prompt_number": 2,
       "text": [
        "14"
       ]
      }
     ],
     "prompt_number": 2
    },
    {
     "cell_type": "code",
     "collapsed": false,
     "input": [
      "a - b"
     ],
     "language": "python",
     "metadata": {
      "slideshow": {
       "slide_type": "fragment"
      }
     },
     "outputs": [
      {
       "metadata": {},
       "output_type": "pyout",
       "prompt_number": 3,
       "text": [
        "4"
       ]
      }
     ],
     "prompt_number": 3
    },
    {
     "cell_type": "code",
     "collapsed": false,
     "input": [
      "a*b"
     ],
     "language": "python",
     "metadata": {
      "slideshow": {
       "slide_type": "fragment"
      }
     },
     "outputs": [
      {
       "metadata": {},
       "output_type": "pyout",
       "prompt_number": 4,
       "text": [
        "49"
       ]
      }
     ],
     "prompt_number": 4
    },
    {
     "cell_type": "code",
     "collapsed": false,
     "input": [
      "a/b"
     ],
     "language": "python",
     "metadata": {
      "slideshow": {
       "slide_type": "fragment"
      }
     },
     "outputs": [
      {
       "metadata": {},
       "output_type": "pyout",
       "prompt_number": 5,
       "text": [
        "1"
       ]
      }
     ],
     "prompt_number": 5
    },
    {
     "cell_type": "markdown",
     "metadata": {
      "slideshow": {
       "slide_type": "slide"
      }
     },
     "source": [
      "## Overloading Comparision Operators"
     ]
    },
    {
     "cell_type": "code",
     "collapsed": false,
     "input": [
      "from __future__ import division\n",
      "\n",
      "class AlienInt(object):\n",
      "    def __init__(self, value):\n",
      "        self.value = value\n",
      "    \n",
      "    def __eq__(self, other):\n",
      "        return self.value == other.value\n",
      "            \n",
      "    def __ne__(self, other):\n",
      "        return not self.__eq__(other)\n",
      "                   \n",
      "    def __lt__(self, other):\n",
      "        return self.value < other.value\n",
      "    \n",
      "    def __gt__(self, other):\n",
      "        return self.value > other.value\n",
      "    \n",
      "    def __le__(self, other):\n",
      "        return self.value <= other.value\n",
      "    \n",
      "    def __ge__(self, other):\n",
      "        return self.value >= other.value\n",
      "            \n",
      "    def __str__(self):\n",
      "        return str(self.value)\n",
      "    \n",
      "    def __repr__(self):\n",
      "        return repr(self.value)\n"
     ],
     "language": "python",
     "metadata": {
      "slideshow": {
       "slide_type": "slide"
      }
     },
     "outputs": [],
     "prompt_number": 6
    },
    {
     "cell_type": "code",
     "collapsed": false,
     "input": [
      "a = AlienInt(5);\n",
      "b = AlienInt(5);\n",
      "a == b"
     ],
     "language": "python",
     "metadata": {
      "slideshow": {
       "slide_type": "subslide"
      }
     },
     "outputs": [
      {
       "metadata": {},
       "output_type": "pyout",
       "prompt_number": 7,
       "text": [
        "True"
       ]
      }
     ],
     "prompt_number": 7
    },
    {
     "cell_type": "code",
     "collapsed": false,
     "input": [
      "a != b"
     ],
     "language": "python",
     "metadata": {
      "slideshow": {
       "slide_type": "fragment"
      }
     },
     "outputs": [
      {
       "metadata": {},
       "output_type": "pyout",
       "prompt_number": 8,
       "text": [
        "False"
       ]
      }
     ],
     "prompt_number": 8
    },
    {
     "cell_type": "code",
     "collapsed": false,
     "input": [
      "c = AlienInt(10);\n",
      "d = AlienInt(5);\n",
      "c < d"
     ],
     "language": "python",
     "metadata": {
      "slideshow": {
       "slide_type": "fragment"
      }
     },
     "outputs": [
      {
       "metadata": {},
       "output_type": "pyout",
       "prompt_number": 9,
       "text": [
        "False"
       ]
      }
     ],
     "prompt_number": 9
    },
    {
     "cell_type": "code",
     "collapsed": false,
     "input": [
      "c > d"
     ],
     "language": "python",
     "metadata": {
      "slideshow": {
       "slide_type": "fragment"
      }
     },
     "outputs": [
      {
       "metadata": {},
       "output_type": "pyout",
       "prompt_number": 10,
       "text": [
        "True"
       ]
      }
     ],
     "prompt_number": 10
    },
    {
     "cell_type": "markdown",
     "metadata": {
      "slideshow": {
       "slide_type": "slide"
      }
     },
     "source": [
      "### Example : Rational Number"
     ]
    },
    {
     "cell_type": "code",
     "collapsed": false,
     "input": [
      "class Rational:\n",
      "    \"\"\"\n",
      "    This class allows operations of rational number on its objects\n",
      "    \"\"\"\n",
      "    def __init__(self, num, den=1):\n",
      "        if(den == 0):\n",
      "            raise ValueError(\"0 is not allowed in denominator\")\n",
      "        self.num = num\n",
      "        self.den = den\n",
      "\n",
      "    def __str__(self):\n",
      "        if self.num == 0:\n",
      "            return '0'\n",
      "        return str(self.num) + \"/\" + str(self.den)\n",
      "    \n",
      "    def __repr__(self):\n",
      "        if self.num == 0:\n",
      "            return '0'\n",
      "        return repr(self.num) + \"/\" + repr(self.den)\n",
      "\n",
      "    def __add__(self,other):\n",
      "        if not isinstance(other, Rational):\n",
      "            other = Rational(other)\n",
      "        new = Rational((self.num*other.den + self.den*other.num), self.den*other.den)\n",
      "        return new\n",
      "\n",
      "    def __sub__(self,other):\n",
      "        if not isinstance(other, Rational):\n",
      "            other = Rational(other)\n",
      "        new = Rational((self.num*other.den - self.den*other.num), self.den*other.den)\n",
      "        return new\n",
      "\n",
      "    def __mul__(self,other):\n",
      "        if not isinstance(other, Rational):\n",
      "            other = Rational(other)\n",
      "        new = Rational((self.num*other.num), self.den*other.den)\n",
      "        return new\n",
      "\n",
      "    def __truediv__(self, other):\n",
      "        if not isinstance(other, Rational):\n",
      "            other = Rational(other)\n",
      "        new = Rational(self.num*other.den, self.den*other.num)\n",
      "        return new"
     ],
     "language": "python",
     "metadata": {
      "slideshow": {
       "slide_type": "subslide"
      }
     },
     "outputs": [],
     "prompt_number": 11
    },
    {
     "cell_type": "code",
     "collapsed": false,
     "input": [
      "p = Rational(10, 15)\n",
      "q = Rational(2, 3)\n",
      "p + q"
     ],
     "language": "python",
     "metadata": {
      "slideshow": {
       "slide_type": "subslide"
      }
     },
     "outputs": [
      {
       "metadata": {},
       "output_type": "pyout",
       "prompt_number": 12,
       "text": [
        "60/45"
       ]
      }
     ],
     "prompt_number": 12
    },
    {
     "cell_type": "code",
     "collapsed": false,
     "input": [
      "p - q"
     ],
     "language": "python",
     "metadata": {
      "slideshow": {
       "slide_type": "fragment"
      }
     },
     "outputs": [
      {
       "metadata": {},
       "output_type": "pyout",
       "prompt_number": 13,
       "text": [
        "0"
       ]
      }
     ],
     "prompt_number": 13
    },
    {
     "cell_type": "code",
     "collapsed": false,
     "input": [
      "p*q"
     ],
     "language": "python",
     "metadata": {
      "slideshow": {
       "slide_type": "fragment"
      }
     },
     "outputs": [
      {
       "metadata": {},
       "output_type": "pyout",
       "prompt_number": 14,
       "text": [
        "20/45"
       ]
      }
     ],
     "prompt_number": 14
    },
    {
     "cell_type": "code",
     "collapsed": false,
     "input": [
      "p / q"
     ],
     "language": "python",
     "metadata": {
      "slideshow": {
       "slide_type": "fragment"
      }
     },
     "outputs": [
      {
       "metadata": {},
       "output_type": "pyout",
       "prompt_number": 15,
       "text": [
        "30/30"
       ]
      }
     ],
     "prompt_number": 15
    },
    {
     "cell_type": "markdown",
     "metadata": {
      "slideshow": {
       "slide_type": "slide"
      }
     },
     "source": [
      "## Excercise\n",
      "\n",
      "### Write a simplify method for this Rational number which should represent it in simplified form of fraction"
     ]
    },
    {
     "cell_type": "code",
     "collapsed": false,
     "input": [
      "class Rational:\n",
      "    \"\"\"\n",
      "    This class allows operations of rational number on its objects\n",
      "    \"\"\"\n",
      "    def __init__(self, num, den=1):\n",
      "        if(den == 0):\n",
      "            raise ValueError(\"0 is not allowed in denominator\")\n",
      "        self.num = num\n",
      "        self.den = den\n",
      "        self.simplify()\n",
      "\n",
      "    def __str__(self):\n",
      "        if self.num == 0:\n",
      "            return '0'\n",
      "        return str(self.num) + \"/\" + str(self.den)\n",
      "    \n",
      "    def __repr__(self):\n",
      "        if self.num == 0:\n",
      "            return '0'\n",
      "        return repr(self.num) + \"/\" + repr(self.den)\n",
      "\n",
      "    def __add__(self,other):\n",
      "        if not isinstance(other, Rational):\n",
      "            other = Rational(other)\n",
      "        new = Rational((self.num*other.den + self.den*other.num), self.den*other.den)\n",
      "        return new\n",
      "\n",
      "    def __sub__(self,other):\n",
      "        if not isinstance(other, Rational):\n",
      "            other = Rational(other)\n",
      "        new = Rational((self.num*other.den - self.den*other.num), self.den*other.den)\n",
      "        return new\n",
      "\n",
      "    def __mul__(self,other):\n",
      "        if not isinstance(other, Rational):\n",
      "            other = Rational(other)\n",
      "        new = Rational((self.num*other.num), self.den*other.den)\n",
      "        return new\n",
      "\n",
      "    def __truediv__(self, other):\n",
      "        if not isinstance(other, Rational):\n",
      "            other = Rational(other)\n",
      "        new = Rational(self.num*other.den, self.den*other.num)\n",
      "        return new\n",
      "\n",
      "    def simplify(self):\n",
      "        while(True):\n",
      "            gcd = self.getGCD(self.num, self.den)\n",
      "            if gcd == self.num or gcd == self.den or gcd ==1:\n",
      "                self.num //= gcd\n",
      "                self.den //= gcd\n",
      "\n",
      "    def getGCD(self,a,b):\n",
      "        maxm = max(a,b)\n",
      "        minm  = min(a,b)\n",
      "        if maxm%minm == 0:\n",
      "            return minm\n",
      "        else:\n",
      "            rem = maxm%minm\n",
      "            return self.getGCD(minm,rem)"
     ],
     "language": "python",
     "metadata": {
      "slideshow": {
       "slide_type": "slide"
      }
     },
     "outputs": [],
     "prompt_number": 16
    },
    {
     "cell_type": "code",
     "collapsed": false,
     "input": [
      "p = Rational(10, 15)\n",
      "q = Rational(2, 3)\n",
      "p + q"
     ],
     "language": "python",
     "metadata": {
      "slideshow": {
       "slide_type": "subslide"
      }
     },
     "outputs": [
      {
       "metadata": {},
       "output_type": "pyout",
       "prompt_number": 17,
       "text": [
        "4/3"
       ]
      }
     ],
     "prompt_number": 17
    },
    {
     "cell_type": "code",
     "collapsed": false,
     "input": [
      "p * q"
     ],
     "language": "python",
     "metadata": {
      "slideshow": {
       "slide_type": "fragment"
      }
     },
     "outputs": [
      {
       "metadata": {},
       "output_type": "pyout",
       "prompt_number": 18,
       "text": [
        "4/9"
       ]
      }
     ],
     "prompt_number": 18
    },
    {
     "cell_type": "markdown",
     "metadata": {
      "slideshow": {
       "slide_type": "slide"
      }
     },
     "source": [
      "# Error Handling"
     ]
    },
    {
     "cell_type": "code",
     "collapsed": false,
     "input": [
      "try:\n",
      "    a = 1/0\n",
      "except Exception:\n",
      "    print \"not possible\"\n",
      "finally:\n",
      "    print \"You tried to divide\""
     ],
     "language": "python",
     "metadata": {
      "slideshow": {
       "slide_type": "subslide"
      }
     },
     "outputs": [
      {
       "output_type": "stream",
       "stream": "stdout",
       "text": [
        "not possible\n",
        "You tried to divide\n"
       ]
      }
     ],
     "prompt_number": 19
    }
   ],
   "metadata": {}
  }
 ]
}